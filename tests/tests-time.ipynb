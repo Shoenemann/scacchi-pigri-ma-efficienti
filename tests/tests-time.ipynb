{
 "cells": [
  {
   "cell_type": "code",
   "execution_count": 1,
   "metadata": {},
   "outputs": [],
   "source": [
    "## Import Python modules\n",
    "\n",
    "#required\n",
    "import chess\n",
    "import chess.pgn\n",
    "import re\n",
    "import math\n",
    "import os #for os.path.basename() only \n",
    "\n",
    "#source code\n",
    "import sys\n",
    "sys.path.append('../src')\n",
    "import chessposition\n",
    "import parsepgn\n",
    "import databaseprune\n",
    "import analysisbasic\n",
    "import display\n",
    "\n",
    "\n",
    "# import specific methods\n",
    "from chessposition import *\n",
    "from parsepgn import *\n",
    "from databaseprune import *\n",
    "from analysisbasic import *\n",
    "from display import *\n",
    "\n",
    "# overview of the functions that are really used\n",
    "from parsepgn import parse_new_game"
   ]
  },
  {
   "cell_type": "code",
   "execution_count": null,
   "metadata": {},
   "outputs": [],
   "source": [
    "## Import Python modules\n",
    "\n",
    "#required\n",
    "import chess\n",
    "import chess.pgn\n",
    "import re\n",
    "import math\n",
    "import os #for os.path.basename() only \n",
    "\n",
    "#source code\n",
    "import sys\n",
    "sys.path.append('../src')\n",
    "import chessposition\n",
    "import parsepgn\n",
    "import databaseprune\n",
    "import analysisbasic\n",
    "import display\n",
    "\n",
    "\n",
    "# import specific methods\n",
    "from chessposition import *\n",
    "from parsepgn import *\n",
    "from databaseprune import *\n",
    "from analysisbasic import *\n",
    "from display import *\n",
    "\n",
    "# overview of the functions that are really used\n",
    "from parsepgn import parse_new_game"
   ]
  }
 ],
 "metadata": {
  "kernelspec": {
   "display_name": "Python 3",
   "language": "python",
   "name": "python3"
  },
  "language_info": {
   "codemirror_mode": {
    "name": "ipython",
    "version": 3
   },
   "file_extension": ".py",
   "mimetype": "text/x-python",
   "name": "python",
   "nbconvert_exporter": "python",
   "pygments_lexer": "ipython3",
   "version": "3.8.5"
  }
 },
 "nbformat": 4,
 "nbformat_minor": 4
}
