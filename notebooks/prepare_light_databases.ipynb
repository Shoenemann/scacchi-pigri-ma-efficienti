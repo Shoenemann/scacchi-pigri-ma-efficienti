{
 "cells": [
  {
   "cell_type": "code",
   "execution_count": 1,
   "metadata": {},
   "outputs": [],
   "source": [
    "#required\n",
    "import chess\n",
    "import chess.pgn\n",
    "import re\n",
    "import math\n",
    "import os #for os.path.basename() only \n",
    "\n",
    "#source code\n",
    "import sys\n",
    "sys.path.append('../src')\n",
    "import chessposition\n",
    "import parsepgn\n",
    "import databaseprune\n",
    "import analysisbasic\n",
    "import display\n",
    "\n",
    "import lightdb\n",
    "\n",
    "\n",
    "# import specific methods\n",
    "from chessposition import *\n",
    "from parsepgn import *\n",
    "from databaseprune import *\n",
    "from analysisbasic import *\n",
    "from display import *\n",
    "\n",
    "# overview of the functions that are really used\n",
    "from lightdb import LightDatabase\n"
   ]
  },
  {
   "cell_type": "markdown",
   "metadata": {},
   "source": [
    "## Read parsed databases\n"
   ]
  },
  {
   "cell_type": "code",
   "execution_count": 2,
   "metadata": {},
   "outputs": [
    {
     "name": "stdout",
     "output_type": "stream",
     "text": [
      "Wall time: 1.83 s\n",
      "Wall time: 47 ms\n",
      "Wall time: 491 ms\n",
      "Wall time: 2.7 s\n",
      "Wall time: 1.23 s\n"
     ]
    }
   ],
   "source": [
    "%time %store -r data_c25_all_20\n",
    "\n",
    "%time %store -r data_elite_100_10\n",
    "%time %store -r data_elite_1000_10\n",
    "%time %store -r data_elite_10000_10\n",
    "\n",
    "%time %store -r data_elite_1000_6_20000"
   ]
  },
  {
   "cell_type": "code",
   "execution_count": 3,
   "metadata": {},
   "outputs": [
    {
     "name": "stdout",
     "output_type": "stream",
     "text": [
      "10229\n",
      "676\n",
      "4025\n",
      "21598\n",
      "10625\n"
     ]
    }
   ],
   "source": [
    "print(len(data_c25_all_20.keys()))\n",
    "print(len(data_elite_100_10.keys()))\n",
    "print(len(data_elite_1000_10.keys()))\n",
    "print(len(data_elite_10000_10.keys()))\n",
    "print(len(data_elite_1000_6_20000.keys()))"
   ]
  },
  {
   "cell_type": "markdown",
   "metadata": {},
   "source": [
    "## Prepare databases for analysis"
   ]
  },
  {
   "cell_type": "code",
   "execution_count": 4,
   "metadata": {},
   "outputs": [],
   "source": [
    "data = data_elite_1000_6_20000\n",
    "\n"
   ]
  },
  {
   "cell_type": "code",
   "execution_count": 5,
   "metadata": {},
   "outputs": [
    {
     "name": "stdout",
     "output_type": "stream",
     "text": [
      "Wall time: 133 ms\n",
      "Stored 'light_w_elite_1k_6_20k' (LightDatabase)\n",
      "Wall time: 47.7 ms\n"
     ]
    }
   ],
   "source": [
    "%time light_w_elite_1k_6_20k = LightDatabase(data_elite_1000_6_20000,\"white\",6)\n",
    "%time %store light_w_elite_1k_6_20k"
   ]
  },
  {
   "cell_type": "code",
   "execution_count": 6,
   "metadata": {},
   "outputs": [
    {
     "name": "stdout",
     "output_type": "stream",
     "text": [
      "Wall time: 131 ms\n",
      "Stored 'light_b_elite_1k_6_20k' (LightDatabase)\n",
      "Wall time: 31.2 ms\n"
     ]
    }
   ],
   "source": [
    "%time light_b_elite_1k_6_20k = LightDatabase(data_elite_1000_6_20000,\"black\",6)\n",
    "%time %store light_b_elite_1k_6_20k"
   ]
  },
  {
   "cell_type": "code",
   "execution_count": null,
   "metadata": {},
   "outputs": [],
   "source": []
  }
 ],
 "metadata": {
  "kernelspec": {
   "display_name": "Python 3",
   "language": "python",
   "name": "python3"
  },
  "language_info": {
   "codemirror_mode": {
    "name": "ipython",
    "version": 3
   },
   "file_extension": ".py",
   "mimetype": "text/x-python",
   "name": "python",
   "nbconvert_exporter": "python",
   "pygments_lexer": "ipython3",
   "version": "3.8.5"
  }
 },
 "nbformat": 4,
 "nbformat_minor": 4
}
