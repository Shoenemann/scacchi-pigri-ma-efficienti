{
 "cells": [
  {
   "cell_type": "code",
   "execution_count": 1,
   "metadata": {},
   "outputs": [],
   "source": [
    "#required\n",
    "import chess\n",
    "import chess.pgn\n",
    "import re\n",
    "import math\n",
    "import os #for os.path.basename() only \n",
    "\n",
    "#source code\n",
    "import sys\n",
    "sys.path.append('../src')\n",
    "import chessposition\n",
    "import parsepgn\n",
    "import databaseprune\n",
    "import analysisbasic\n",
    "import display\n",
    "\n",
    "import preparedb\n",
    "\n",
    "\n",
    "# import specific methods\n",
    "from chessposition import *\n",
    "from parsepgn import *\n",
    "from databaseprune import *\n",
    "from analysisbasic import *\n",
    "from display import *\n",
    "\n",
    "# overview of the functions that are really used\n",
    "from preparedb import light_database\n"
   ]
  },
  {
   "cell_type": "markdown",
   "metadata": {},
   "source": [
    "## Read parsed databases\n"
   ]
  },
  {
   "cell_type": "code",
   "execution_count": 2,
   "metadata": {},
   "outputs": [
    {
     "name": "stdout",
     "output_type": "stream",
     "text": [
      "Wall time: 1.96 s\n",
      "Wall time: 46.9 ms\n",
      "Wall time: 607 ms\n",
      "Wall time: 2.81 s\n",
      "Wall time: 81.6 ms\n"
     ]
    }
   ],
   "source": [
    "%time %store -r data_c25_all_20\n",
    "\n",
    "%time %store -r data_elite_100_10\n",
    "%time %store -r data_elite_1000_10\n",
    "%time %store -r data_elite_10000_10\n",
    "\n",
    "%time %store -r data_elite_1000_6_20000"
   ]
  },
  {
   "cell_type": "code",
   "execution_count": 3,
   "metadata": {},
   "outputs": [
    {
     "name": "stdout",
     "output_type": "stream",
     "text": [
      "10229\n",
      "676\n",
      "4025\n",
      "21598\n",
      "1380\n"
     ]
    }
   ],
   "source": [
    "print(len(data_c25_all_20.keys()))\n",
    "print(len(data_elite_100_10.keys()))\n",
    "print(len(data_elite_1000_10.keys()))\n",
    "print(len(data_elite_10000_10.keys()))\n",
    "print(len(data_elite_1000_6_20000.keys()))"
   ]
  },
  {
   "cell_type": "markdown",
   "metadata": {},
   "source": [
    "## Prepare databases for analysis"
   ]
  },
  {
   "cell_type": "code",
   "execution_count": null,
   "metadata": {},
   "outputs": [],
   "source": [
    "%time light_w_elite_1k_6_20k = light_database(data_elite_1000_6_20000,\"white\")"
   ]
  },
  {
   "cell_type": "code",
   "execution_count": null,
   "metadata": {},
   "outputs": [],
   "source": [
    "%time light_b_elite_1k_6_20k = light_database(data_elite_1000_6_20000,\"black\")"
   ]
  }
 ],
 "metadata": {
  "kernelspec": {
   "display_name": "Python 3",
   "language": "python",
   "name": "python3"
  },
  "language_info": {
   "codemirror_mode": {
    "name": "ipython",
    "version": 3
   },
   "file_extension": ".py",
   "mimetype": "text/x-python",
   "name": "python",
   "nbconvert_exporter": "python",
   "pygments_lexer": "ipython3",
   "version": "3.8.5"
  }
 },
 "nbformat": 4,
 "nbformat_minor": 4
}
