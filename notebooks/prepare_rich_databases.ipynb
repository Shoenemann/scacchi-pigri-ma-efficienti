{
 "cells": [
  {
   "cell_type": "markdown",
   "metadata": {},
   "source": [
    "# RichDatabase\n",
    "\n",
    "Goal: data structure to explore the database after it has been parsed\n"
   ]
  },
  {
   "cell_type": "markdown",
   "metadata": {},
   "source": [
    "## Preamble Python libraries\n"
   ]
  },
  {
   "cell_type": "code",
   "execution_count": 1,
   "metadata": {},
   "outputs": [],
   "source": [
    "#required\n",
    "import chess\n",
    "import chess.pgn\n",
    "import re\n",
    "import math\n",
    "import os #for os.path.basename() only \n",
    "\n",
    "#source code\n",
    "import sys\n",
    "sys.path.append('../src')\n",
    "import chessposition\n",
    "import parsepgn\n",
    "import databaseprune\n",
    "import analysisbasic\n",
    "import display\n",
    "\n",
    "import fastparseclass\n",
    "from fastparseclass import *\n",
    "\n",
    "\n",
    "import lightdb\n",
    "from lightdb import LightDatabase\n",
    "\n",
    "import richdb\n",
    "from richdb import *\n",
    "\n",
    "# import specific methods\n",
    "from chessposition import *\n",
    "from parsepgn import *\n",
    "from databaseprune import *\n",
    "from analysisbasic import *\n",
    "from display import *\n",
    "\n",
    "# overview of the functions that are really used\n",
    "from parsepgn import parse_new_game"
   ]
  },
  {
   "cell_type": "markdown",
   "metadata": {},
   "source": [
    "## Import FastDatabase to RichDatabase"
   ]
  },
  {
   "cell_type": "code",
   "execution_count": 2,
   "metadata": {},
   "outputs": [
    {
     "name": "stdout",
     "output_type": "stream",
     "text": [
      "Wall time: 363 ms\n"
     ]
    }
   ],
   "source": [
    "%time %store -r fastdata_lichess_10000_16_900000"
   ]
  },
  {
   "cell_type": "code",
   "execution_count": 3,
   "metadata": {},
   "outputs": [],
   "source": [
    "richdata_lichess_10000_16_900000 = RichDatabase()"
   ]
  },
  {
   "cell_type": "code",
   "execution_count": 4,
   "metadata": {},
   "outputs": [],
   "source": [
    "fastdata = fastdata_lichess_10000_16_900000\n",
    "richdata  = richdata_lichess_10000_16_900000"
   ]
  },
  {
   "cell_type": "code",
   "execution_count": 5,
   "metadata": {},
   "outputs": [
    {
     "name": "stdout",
     "output_type": "stream",
     "text": [
      "Wall time: 846 ms\n"
     ]
    }
   ],
   "source": [
    "%time richdata.import_from_fastdatabase(fastdata)"
   ]
  },
  {
   "cell_type": "code",
   "execution_count": 6,
   "metadata": {
    "scrolled": true
   },
   "outputs": [
    {
     "name": "stdout",
     "output_type": "stream",
     "text": [
      "Stored 'richdata_lichess_10000_16_900000' (RichDatabase)\n",
      "Wall time: 557 ms\n"
     ]
    }
   ],
   "source": [
    "%time store richdata_lichess_10000_16_900000"
   ]
  },
  {
   "cell_type": "markdown",
   "metadata": {},
   "source": [
    "## Test the import is working"
   ]
  },
  {
   "cell_type": "code",
   "execution_count": 7,
   "metadata": {},
   "outputs": [
    {
     "data": {
      "text/plain": [
       "93307"
      ]
     },
     "execution_count": 7,
     "metadata": {},
     "output_type": "execute_result"
    }
   ],
   "source": [
    "len(fastdata.all_positions)"
   ]
  },
  {
   "cell_type": "code",
   "execution_count": 8,
   "metadata": {},
   "outputs": [
    {
     "data": {
      "text/plain": [
       "93307"
      ]
     },
     "execution_count": 8,
     "metadata": {},
     "output_type": "execute_result"
    }
   ],
   "source": [
    "len(richdata.all_positions)"
   ]
  },
  {
   "cell_type": "code",
   "execution_count": 9,
   "metadata": {},
   "outputs": [
    {
     "data": {
      "text/plain": [
       "93307"
      ]
     },
     "execution_count": 9,
     "metadata": {},
     "output_type": "execute_result"
    }
   ],
   "source": [
    "len(richdata_lichess_10000_16_900000.all_positions)"
   ]
  },
  {
   "cell_type": "code",
   "execution_count": 12,
   "metadata": {},
   "outputs": [
    {
     "name": "stdout",
     "output_type": "stream",
     "text": [
      "id: 1000move order: ['e2e4', 'e7e5', 'f1c4', 'g8f6', 'd1f3', 'b8c6', 'c2c3', 'f8c5', 'h2h3', 'd7d6', 'd2d3', 'e8g8']\n"
     ]
    }
   ],
   "source": [
    "richdata.visualize_basic_info(1000)"
   ]
  },
  {
   "cell_type": "code",
   "execution_count": null,
   "metadata": {},
   "outputs": [],
   "source": []
  },
  {
   "cell_type": "code",
   "execution_count": null,
   "metadata": {},
   "outputs": [],
   "source": []
  },
  {
   "cell_type": "code",
   "execution_count": null,
   "metadata": {},
   "outputs": [],
   "source": []
  }
 ],
 "metadata": {
  "kernelspec": {
   "display_name": "Python 3",
   "language": "python",
   "name": "python3"
  },
  "language_info": {
   "codemirror_mode": {
    "name": "ipython",
    "version": 3
   },
   "file_extension": ".py",
   "mimetype": "text/x-python",
   "name": "python",
   "nbconvert_exporter": "python",
   "pygments_lexer": "ipython3",
   "version": "3.8.5"
  }
 },
 "nbformat": 4,
 "nbformat_minor": 4
}
