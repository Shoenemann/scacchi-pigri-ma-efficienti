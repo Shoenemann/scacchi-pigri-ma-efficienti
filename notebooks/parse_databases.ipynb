{
 "cells": [
  {
   "cell_type": "markdown",
   "metadata": {},
   "source": [
    "## Import Python modules"
   ]
  },
  {
   "cell_type": "code",
   "execution_count": 1,
   "metadata": {},
   "outputs": [],
   "source": [
    "#required\n",
    "import chess\n",
    "import chess.pgn\n",
    "import re\n",
    "import math\n",
    "import os #for os.path.basename() only \n",
    "\n",
    "#source code\n",
    "import sys\n",
    "sys.path.append('../src')\n",
    "import chessposition\n",
    "import parsepgn\n",
    "import databaseprune\n",
    "import analysisbasic\n",
    "import display\n"
   ]
  },
  {
   "cell_type": "code",
   "execution_count": 2,
   "metadata": {},
   "outputs": [],
   "source": [
    "# import specific methods\n",
    "from chessposition import *\n",
    "from parsepgn import *\n",
    "from databaseprune import *\n",
    "from analysisbasic import *\n",
    "from display import *\n",
    "\n",
    "# overview of the functions that are really used\n",
    "from parsepgn import parse_new_game"
   ]
  },
  {
   "cell_type": "markdown",
   "metadata": {},
   "source": [
    "## PGN files\n",
    "\n",
    "Open file\n",
    "- the opening of pgn is istantaneous\n",
    "\n",
    "Parse file\n",
    "-  \"C25.pgn\" has 1015 games, parsed in 11 seconds\n",
    "-  \"lichess_elite_2020-09.pgn\" has more than 10000 games. These are parsed in 2 minutes.\n",
    "\n",
    "The first id is\n",
    "- \"rnbqkbnr/pppppppp/8/8/8/8/PPPPPPPP/RNBQKBNR w KQkq - FEN_id\"\n",
    "\n",
    "\n",
    "Time\n",
    "- parse multiple games in the pgn files, into the dictionary of positions\n",
    "- 10 sec for 1000 games depth 4\n",
    "- 10 sec for 1000 games depth 10\n",
    "- 2 min for 10000 games depth 10"
   ]
  },
  {
   "cell_type": "code",
   "execution_count": 3,
   "metadata": {},
   "outputs": [],
   "source": [
    "#open a pgn file\n",
    "myPath=\"C:\\\\Users\\\\User\\\\Documents\\\\60-69_Learning\\\\63 Chess\\\\\"\n",
    "\n",
    "c25_pgn = open(\"../pgn/C25.pgn\")\n",
    "\n",
    "elite_pgn = open(myPath+\"lichess_elite_2020-09\\\\lichess_elite_2020-09.pgn\")\n"
   ]
  },
  {
   "cell_type": "markdown",
   "metadata": {},
   "source": [
    "## Dictionaries of ChessPosition's"
   ]
  },
  {
   "cell_type": "code",
   "execution_count": 4,
   "metadata": {},
   "outputs": [
    {
     "name": "stdout",
     "output_type": "stream",
     "text": [
      "Wall time: 33.4 s\n",
      "Wall time: 1.48 s\n",
      "Wall time: 15.3 s\n",
      "Wall time: 2min 46s\n"
     ]
    }
   ],
   "source": [
    "%time data_c25_all_20 = parse_database(c25_pgn,1015,20)\n",
    "\n",
    "%time data_elite_100_10 = parse_database(elite_pgn,100,10)\n",
    "%time data_elite_1000_10 = parse_database(elite_pgn,1000,10)\n",
    "%time data_elite_10000_10 = parse_database(elite_pgn,10000,10)"
   ]
  },
  {
   "cell_type": "markdown",
   "metadata": {},
   "source": [
    "## Store magic\n",
    "\n",
    "To store a dizionario cn 50000 positions, 7 seconds\n",
    "\n",
    "To read it back again 12 seconds\n",
    "\n",
    "https://www.blopig.com/blog/2020/05/storing-variables-in-jupyter-notebooks-using-store-magic/#:~:text=The%20%E2%80%98%25store%E2%80%99%20command%20saves%20the%20specified%20variable.%20Now,recover%20the%20variable%20using%20the%20%E2%80%98%25store%20-r%E2%80%99%20command%3A"
   ]
  },
  {
   "cell_type": "code",
   "execution_count": 7,
   "metadata": {},
   "outputs": [
    {
     "name": "stdout",
     "output_type": "stream",
     "text": [
      "Stored 'data_c25_all_20' (dict)\n",
      "Wall time: 1.73 s\n",
      "Stored 'data_elite_100_10' (dict)\n",
      "Wall time: 53.4 ms\n",
      "Stored 'data_elite_1000_10' (dict)\n",
      "Wall time: 297 ms\n",
      "Stored 'data_elite_10000_10' (dict)\n",
      "Wall time: 1.84 s\n"
     ]
    }
   ],
   "source": [
    "%time %store data_c25_all_20\n",
    "\n",
    "%time %store data_elite_100_10\n",
    "%time %store data_elite_1000_10\n",
    "%time %store data_elite_10000_10"
   ]
  },
  {
   "cell_type": "code",
   "execution_count": 6,
   "metadata": {},
   "outputs": [
    {
     "name": "stdout",
     "output_type": "stream",
     "text": [
      "10229\n",
      "676\n",
      "4025\n",
      "21598\n"
     ]
    }
   ],
   "source": [
    "print(len(data_c25_all_20.keys()))\n",
    "print(len(data_elite_100_10.keys()))\n",
    "print(len(data_elite_1000_10.keys()))\n",
    "print(len(data_elite_10000_10.keys()))"
   ]
  },
  {
   "cell_type": "code",
   "execution_count": null,
   "metadata": {},
   "outputs": [],
   "source": []
  }
 ],
 "metadata": {
  "kernelspec": {
   "display_name": "Python 3",
   "language": "python",
   "name": "python3"
  },
  "language_info": {
   "codemirror_mode": {
    "name": "ipython",
    "version": 3
   },
   "file_extension": ".py",
   "mimetype": "text/x-python",
   "name": "python",
   "nbconvert_exporter": "python",
   "pygments_lexer": "ipython3",
   "version": "3.8.5"
  }
 },
 "nbformat": 4,
 "nbformat_minor": 4
}
