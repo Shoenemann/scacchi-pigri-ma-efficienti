{
 "cells": [
  {
   "cell_type": "markdown",
   "metadata": {},
   "source": [
    "# RichDatabase\n",
    "\n",
    "Goal: data structure to explore the database after it has been parsed\n"
   ]
  },
  {
   "cell_type": "markdown",
   "metadata": {},
   "source": [
    "## Preamble Python libraries\n"
   ]
  },
  {
   "cell_type": "code",
   "execution_count": 1,
   "metadata": {},
   "outputs": [
    {
     "ename": "ModuleNotFoundError",
     "evalue": "No module named 'display'",
     "output_type": "error",
     "traceback": [
      "\u001b[1;31m--------------------------------------------------------------------------\u001b[0m",
      "\u001b[1;31mModuleNotFoundError\u001b[0m                      Traceback (most recent call last)",
      "\u001b[1;32m<ipython-input-1-54f791e7df1e>\u001b[0m in \u001b[0;36m<module>\u001b[1;34m\u001b[0m\n\u001b[0;32m     13\u001b[0m \u001b[1;32mimport\u001b[0m \u001b[0mdatabaseprune\u001b[0m\u001b[1;33m\u001b[0m\u001b[1;33m\u001b[0m\u001b[0m\n\u001b[0;32m     14\u001b[0m \u001b[1;32mimport\u001b[0m \u001b[0manalysisbasic\u001b[0m\u001b[1;33m\u001b[0m\u001b[1;33m\u001b[0m\u001b[0m\n\u001b[1;32m---> 15\u001b[1;33m \u001b[1;32mimport\u001b[0m \u001b[0mdisplay\u001b[0m\u001b[1;33m\u001b[0m\u001b[1;33m\u001b[0m\u001b[0m\n\u001b[0m\u001b[0;32m     16\u001b[0m \u001b[1;33m\u001b[0m\u001b[0m\n\u001b[0;32m     17\u001b[0m \u001b[1;32mimport\u001b[0m \u001b[0mfastparseclass\u001b[0m\u001b[1;33m\u001b[0m\u001b[1;33m\u001b[0m\u001b[0m\n",
      "\u001b[1;31mModuleNotFoundError\u001b[0m: No module named 'display'"
     ]
    }
   ],
   "source": [
    "#required\n",
    "import chess\n",
    "import chess.pgn\n",
    "import re\n",
    "import math\n",
    "import os #for os.path.basename() only \n",
    "\n",
    "#source code\n",
    "import sys\n",
    "sys.path.append('../src')\n",
    "import chessposition\n",
    "import parsepgn\n",
    "import databaseprune\n",
    "import analysisbasic\n",
    "import displaychess\n",
    "\n",
    "import fastparseclass\n",
    "from fastparseclass import *\n",
    "\n",
    "\n",
    "import lightdb\n",
    "from lightdb import LightDatabase\n",
    "\n",
    "import richdb\n",
    "from richdb import *\n",
    "\n",
    "# import specific methods\n",
    "from chessposition import *\n",
    "from parsepgn import *\n",
    "from databaseprune import *\n",
    "from analysisbasic import *\n",
    "from displaychess import *\n",
    "\n",
    "# overview of the functions that are really used\n",
    "from parsepgn import parse_new_game"
   ]
  },
  {
   "cell_type": "markdown",
   "metadata": {},
   "source": [
    "## Import FastDatabase to RichDatabase"
   ]
  },
  {
   "cell_type": "code",
   "execution_count": null,
   "metadata": {},
   "outputs": [],
   "source": [
    "%time %store -r fastdata_lichess_10000_16_990000"
   ]
  },
  {
   "cell_type": "code",
   "execution_count": null,
   "metadata": {},
   "outputs": [],
   "source": [
    "richdata_lichess_10000_16_990000 = RichDatabase()"
   ]
  },
  {
   "cell_type": "code",
   "execution_count": null,
   "metadata": {},
   "outputs": [],
   "source": [
    "fastdata = fastdata_lichess_10000_16_990000\n",
    "richdata  = richdata_lichess_10000_16_990000"
   ]
  },
  {
   "cell_type": "code",
   "execution_count": 2,
   "metadata": {},
   "outputs": [
    {
     "ename": "NameError",
     "evalue": "name 'richdata' is not defined",
     "output_type": "error",
     "traceback": [
      "\u001b[1;31m--------------------------------------------------------------------------\u001b[0m",
      "\u001b[1;31mNameError\u001b[0m                                Traceback (most recent call last)",
      "\u001b[1;32m<timed eval>\u001b[0m in \u001b[0;36m<module>\u001b[1;34m\u001b[0m\n",
      "\u001b[1;31mNameError\u001b[0m: name 'richdata' is not defined"
     ]
    }
   ],
   "source": [
    "%time richdata.import_from_fastdatabase(fastdata)"
   ]
  },
  {
   "cell_type": "code",
   "execution_count": 3,
   "metadata": {
    "scrolled": true
   },
   "outputs": [
    {
     "name": "stderr",
     "output_type": "stream",
     "text": [
      "UsageError: Unknown variable 'richdata_lichess_10000_16_990000'\n"
     ]
    }
   ],
   "source": [
    "%time store richdata_lichess_10000_16_990000"
   ]
  },
  {
   "cell_type": "markdown",
   "metadata": {},
   "source": [
    "## Test the import is working"
   ]
  },
  {
   "cell_type": "code",
   "execution_count": 4,
   "metadata": {},
   "outputs": [
    {
     "ename": "NameError",
     "evalue": "name 'fastdata' is not defined",
     "output_type": "error",
     "traceback": [
      "\u001b[1;31m--------------------------------------------------------------------------\u001b[0m",
      "\u001b[1;31mNameError\u001b[0m                                Traceback (most recent call last)",
      "\u001b[1;32m<ipython-input-4-368d2f1177a9>\u001b[0m in \u001b[0;36m<module>\u001b[1;34m\u001b[0m\n\u001b[1;32m----> 1\u001b[1;33m \u001b[0mlen\u001b[0m\u001b[1;33m(\u001b[0m\u001b[0mfastdata\u001b[0m\u001b[1;33m.\u001b[0m\u001b[0mall_positions\u001b[0m\u001b[1;33m)\u001b[0m\u001b[1;33m\u001b[0m\u001b[1;33m\u001b[0m\u001b[0m\n\u001b[0m",
      "\u001b[1;31mNameError\u001b[0m: name 'fastdata' is not defined"
     ]
    }
   ],
   "source": [
    "len(fastdata.all_positions)"
   ]
  },
  {
   "cell_type": "code",
   "execution_count": 5,
   "metadata": {},
   "outputs": [
    {
     "ename": "NameError",
     "evalue": "name 'richdata' is not defined",
     "output_type": "error",
     "traceback": [
      "\u001b[1;31m--------------------------------------------------------------------------\u001b[0m",
      "\u001b[1;31mNameError\u001b[0m                                Traceback (most recent call last)",
      "\u001b[1;32m<ipython-input-5-fa73eefe7a14>\u001b[0m in \u001b[0;36m<module>\u001b[1;34m\u001b[0m\n\u001b[1;32m----> 1\u001b[1;33m \u001b[0mlen\u001b[0m\u001b[1;33m(\u001b[0m\u001b[0mrichdata\u001b[0m\u001b[1;33m.\u001b[0m\u001b[0mall_positions\u001b[0m\u001b[1;33m)\u001b[0m\u001b[1;33m\u001b[0m\u001b[1;33m\u001b[0m\u001b[0m\n\u001b[0m",
      "\u001b[1;31mNameError\u001b[0m: name 'richdata' is not defined"
     ]
    }
   ],
   "source": [
    "len(richdata.all_positions)"
   ]
  },
  {
   "cell_type": "code",
   "execution_count": 6,
   "metadata": {},
   "outputs": [
    {
     "ename": "NameError",
     "evalue": "name 'richdata_lichess_10000_16_990000' is not defined",
     "output_type": "error",
     "traceback": [
      "\u001b[1;31m--------------------------------------------------------------------------\u001b[0m",
      "\u001b[1;31mNameError\u001b[0m                                Traceback (most recent call last)",
      "\u001b[1;32m<ipython-input-6-684645b8817b>\u001b[0m in \u001b[0;36m<module>\u001b[1;34m\u001b[0m\n\u001b[1;32m----> 1\u001b[1;33m \u001b[0mlen\u001b[0m\u001b[1;33m(\u001b[0m\u001b[0mrichdata_lichess_10000_16_990000\u001b[0m\u001b[1;33m.\u001b[0m\u001b[0mall_positions\u001b[0m\u001b[1;33m)\u001b[0m\u001b[1;33m\u001b[0m\u001b[1;33m\u001b[0m\u001b[0m\n\u001b[0m",
      "\u001b[1;31mNameError\u001b[0m: name 'richdata_lichess_10000_16_990000' is not defined"
     ]
    }
   ],
   "source": [
    "len(richdata_lichess_10000_16_990000.all_positions)"
   ]
  },
  {
   "cell_type": "code",
   "execution_count": 10,
   "metadata": {},
   "outputs": [
    {
     "name": "stdout",
     "output_type": "stream",
     "text": [
      "id: 1000 move order: ['e2e4', 'e7e5', 'f1c4', 'g8f6', 'd1f3', 'b8c6', 'c2c3', 'f8c5', 'h2h3', 'd7d6', 'd2d3', 'e8g8']\n",
      "hello1\n",
      "hello2\n",
      "hello3\n",
      "hello3\n",
      "hello3\n",
      "hello3\n",
      "hello3\n",
      "hello3\n",
      "hello3\n",
      "hello3\n",
      "hello3\n",
      "hello3\n",
      "hello3\n",
      "hello3\n",
      "hello4\n",
      "fen: r1bq1rk1/ppp2ppp/2np1n2/2b1p3/2B1P3/2PP1Q1P/PP3PP1/RNB1K1NR w KQ - 1 7\n"
     ]
    }
   ],
   "source": [
    "richdata.visualize_basic_info(1000)"
   ]
  },
  {
   "cell_type": "code",
   "execution_count": 11,
   "metadata": {},
   "outputs": [
    {
     "name": "stdout",
     "output_type": "stream",
     "text": [
      "93307\n",
      "hey\n",
      "hello1\n",
      "hello2\n",
      "hello4\n",
      "r n b q k b n r\n",
      "p p p p p p p p\n",
      ". . . . . . . .\n",
      ". . . . . . . .\n",
      ". . . . . . . .\n",
      ". . . . . . . .\n",
      "P P P P P P P P\n",
      "R N B Q K B N R\n"
     ]
    }
   ],
   "source": [
    "print (len(richdata.all_positions))\n",
    "richdata.visualize_board(0)"
   ]
  },
  {
   "cell_type": "code",
   "execution_count": 12,
   "metadata": {},
   "outputs": [],
   "source": [
    "from importlib import reload\n",
    "#reload(richdb)"
   ]
  },
  {
   "cell_type": "code",
   "execution_count": null,
   "metadata": {},
   "outputs": [],
   "source": []
  },
  {
   "cell_type": "code",
   "execution_count": null,
   "metadata": {},
   "outputs": [],
   "source": []
  },
  {
   "cell_type": "code",
   "execution_count": null,
   "metadata": {},
   "outputs": [],
   "source": []
  },
  {
   "cell_type": "code",
   "execution_count": null,
   "metadata": {},
   "outputs": [],
   "source": []
  },
  {
   "cell_type": "code",
   "execution_count": null,
   "metadata": {},
   "outputs": [],
   "source": []
  },
  {
   "cell_type": "code",
   "execution_count": null,
   "metadata": {},
   "outputs": [],
   "source": []
  },
  {
   "cell_type": "code",
   "execution_count": null,
   "metadata": {},
   "outputs": [],
   "source": []
  }
 ],
 "metadata": {
  "kernelspec": {
   "display_name": "Python 3",
   "language": "python",
   "name": "python3"
  },
  "language_info": {
   "codemirror_mode": {
    "name": "ipython",
    "version": 3
   },
   "file_extension": ".py",
   "mimetype": "text/x-python",
   "name": "python",
   "nbconvert_exporter": "python",
   "pygments_lexer": "ipython3",
   "version": "3.8.5"
  }
 },
 "nbformat": 4,
 "nbformat_minor": 4
}
