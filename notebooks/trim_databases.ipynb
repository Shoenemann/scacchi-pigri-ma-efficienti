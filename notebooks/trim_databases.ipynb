{
 "cells": [
  {
   "cell_type": "code",
   "execution_count": 1,
   "metadata": {},
   "outputs": [],
   "source": [
    "#required\n",
    "import chess\n",
    "import chess.pgn\n",
    "import re\n",
    "import math\n",
    "import os #for os.path.basename() only \n",
    "\n",
    "#source code\n",
    "import sys\n",
    "sys.path.append('../src')\n",
    "import chessposition\n",
    "import parsepgn\n",
    "import databaseprune\n",
    "import analysisbasic\n",
    "import display\n",
    "\n",
    "import lightdb\n",
    "\n",
    "\n",
    "\n",
    "# import specific methods\n",
    "from chessposition import *\n",
    "from parsepgn import *\n",
    "from databaseprune import *\n",
    "from analysisbasic import *\n",
    "from display import *\n",
    "\n",
    "\n",
    "# overview of the functions that are really used\n",
    "from lightdb import LightDatabase\n"
   ]
  },
  {
   "cell_type": "markdown",
   "metadata": {},
   "source": [
    "## Read parsed databases"
   ]
  },
  {
   "cell_type": "code",
   "execution_count": 2,
   "metadata": {
    "scrolled": true
   },
   "outputs": [
    {
     "name": "stdout",
     "output_type": "stream",
     "text": [
      "Wall time: 170 ms\n",
      "Wall time: 873 ms\n",
      "Wall time: 8.61 s\n",
      "Wall time: 1.61 s\n"
     ]
    }
   ],
   "source": [
    "%time %store -r data_elite_1000_6_20000\n",
    "%time %store -r data_elite_1000_10_20000\n",
    "%time %store -r data_elite_10000_12_20000\n",
    "%time %store -r data_elite_1000_10_300000"
   ]
  },
  {
   "cell_type": "code",
   "execution_count": 3,
   "metadata": {},
   "outputs": [
    {
     "name": "stdout",
     "output_type": "stream",
     "text": [
      "1636\n",
      "4892\n",
      "45830\n",
      "4892\n"
     ]
    }
   ],
   "source": [
    "print(len(data_elite_1000_6_20000.keys()))\n",
    "print(len(data_elite_1000_10_20000.keys()))\n",
    "print(len(data_elite_10000_12_20000.keys()))\n",
    "print(len(data_elite_1000_10_300000.keys()))"
   ]
  },
  {
   "cell_type": "code",
   "execution_count": 4,
   "metadata": {},
   "outputs": [
    {
     "name": "stdout",
     "output_type": "stream",
     "text": [
      "Wall time: 401 ms\n",
      "Wall time: 1.15 s\n",
      "Wall time: 12.7 s\n",
      "Wall time: 1.26 s\n"
     ]
    }
   ],
   "source": [
    "%time data_elite_1000_6_20000_t20 = my_prune(data_elite_1000_6_20000,20)\n",
    "%time data_elite_1000_10_20000_t20 = my_prune(data_elite_1000_10_20000,20)\n",
    "%time data_elite_10000_12_20000_t20 = my_prune(data_elite_10000_12_20000,20)\n",
    "%time data_elite_1000_10_300000_t20 = my_prune(data_elite_1000_10_300000,20)"
   ]
  },
  {
   "cell_type": "code",
   "execution_count": 5,
   "metadata": {},
   "outputs": [
    {
     "name": "stdout",
     "output_type": "stream",
     "text": [
      "571\n",
      "819\n",
      "1623\n",
      "2234\n"
     ]
    }
   ],
   "source": [
    "print(len(data_elite_1000_6_20000_t20.keys()))\n",
    "print(len(data_elite_1000_10_20000_t20.keys()))\n",
    "print(len(data_elite_10000_12_20000_t20.keys()))\n",
    "print(len(data_elite_1000_10_300000_t20.keys()))"
   ]
  },
  {
   "cell_type": "code",
   "execution_count": 6,
   "metadata": {},
   "outputs": [
    {
     "name": "stdout",
     "output_type": "stream",
     "text": [
      "Stored 'data_elite_1000_6_20000_t20' (dict)\n",
      "Wall time: 44 ms\n",
      "Stored 'data_elite_1000_10_20000_t20' (dict)\n",
      "Wall time: 50.3 ms\n",
      "Stored 'data_elite_10000_12_20000_t20' (dict)\n",
      "Wall time: 89 ms\n",
      "Stored 'data_elite_1000_10_300000_t20' (dict)\n",
      "Wall time: 130 ms\n"
     ]
    }
   ],
   "source": [
    "%time %store data_elite_1000_6_20000_t20\n",
    "%time %store data_elite_1000_10_20000_t20\n",
    "%time %store data_elite_10000_12_20000_t20\n",
    "%time %store data_elite_1000_10_300000_t20"
   ]
  },
  {
   "cell_type": "code",
   "execution_count": 7,
   "metadata": {},
   "outputs": [
    {
     "name": "stdout",
     "output_type": "stream",
     "text": [
      "Wall time: 349 ms\n",
      "Wall time: 1.1 s\n",
      "Wall time: 13.2 s\n",
      "Wall time: 3.85 s\n"
     ]
    }
   ],
   "source": [
    "%time data_elite_1000_6_20000_t100  = my_prune(data_elite_1000_6_20000,100)\n",
    "%time data_elite_1000_10_20000_t100 = my_prune(data_elite_1000_10_20000,100)\n",
    "%time data_elite_10000_12_20000_t100 = my_prune(data_elite_10000_12_20000,100)\n",
    "%time data_elite_1000_10_300000_t100 = my_prune(data_elite_1000_10_300000,100)"
   ]
  },
  {
   "cell_type": "code",
   "execution_count": 8,
   "metadata": {},
   "outputs": [
    {
     "name": "stdout",
     "output_type": "stream",
     "text": [
      "153\n",
      "182\n",
      "264\n",
      "1195\n"
     ]
    }
   ],
   "source": [
    "print(len(data_elite_1000_6_20000_t100.keys()))\n",
    "print(len(data_elite_1000_10_20000_t100.keys()))\n",
    "print(len(data_elite_10000_12_20000_t100.keys()))\n",
    "print(len(data_elite_1000_10_300000_t100.keys()))"
   ]
  },
  {
   "cell_type": "code",
   "execution_count": 9,
   "metadata": {},
   "outputs": [
    {
     "name": "stdout",
     "output_type": "stream",
     "text": [
      "Stored 'data_elite_1000_6_20000_t100' (dict)\n",
      "Wall time: 12 ms\n",
      "Stored 'data_elite_1000_10_20000_t100' (dict)\n",
      "Wall time: 17 ms\n",
      "Stored 'data_elite_10000_12_20000_t100' (dict)\n",
      "Wall time: 20 ms\n",
      "Stored 'data_elite_1000_10_300000_t100' (dict)\n",
      "Wall time: 101 ms\n"
     ]
    }
   ],
   "source": [
    "%time %store data_elite_1000_6_20000_t100\n",
    "%time %store data_elite_1000_10_20000_t100\n",
    "%time %store data_elite_10000_12_20000_t100\n",
    "%time %store data_elite_1000_10_300000_t100"
   ]
  },
  {
   "cell_type": "code",
   "execution_count": null,
   "metadata": {},
   "outputs": [],
   "source": []
  }
 ],
 "metadata": {
  "kernelspec": {
   "display_name": "Python 3",
   "language": "python",
   "name": "python3"
  },
  "language_info": {
   "codemirror_mode": {
    "name": "ipython",
    "version": 3
   },
   "file_extension": ".py",
   "mimetype": "text/x-python",
   "name": "python",
   "nbconvert_exporter": "python",
   "pygments_lexer": "ipython3",
   "version": "3.8.5"
  }
 },
 "nbformat": 4,
 "nbformat_minor": 4
}
